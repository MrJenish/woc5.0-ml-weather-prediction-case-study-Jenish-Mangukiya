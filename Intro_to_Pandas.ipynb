{
  "nbformat": 4,
  "nbformat_minor": 0,
  "metadata": {
    "colab": {
      "provenance": [],
      "mount_file_id": "1mWIIBSj9L8nddDw1znEnIkZUczW7nzxu",
      "authorship_tag": "ABX9TyOwwdT1xO5gT7LfaZiEC8A4",
      "include_colab_link": true
    },
    "kernelspec": {
      "name": "python3",
      "display_name": "Python 3"
    },
    "language_info": {
      "name": "python"
    }
  },
  "cells": [
    {
      "cell_type": "markdown",
      "metadata": {
        "id": "view-in-github",
        "colab_type": "text"
      },
      "source": [
        "<a href=\"https://colab.research.google.com/github/MrJenish/woc5.0-ml-weather-prediction-case-study-Jenish-Mangukiya/blob/main/Intro_to_Pandas.ipynb\" target=\"_parent\"><img src=\"https://colab.research.google.com/assets/colab-badge.svg\" alt=\"Open In Colab\"/></a>"
      ]
    },
    {
      "cell_type": "markdown",
      "source": [
        "Import pandas library"
      ],
      "metadata": {
        "id": "RNDrYYIeO4ZO"
      }
    },
    {
      "cell_type": "code",
      "source": [
        "import pandas as pd"
      ],
      "metadata": {
        "id": "4NpxAoDXPAyl"
      },
      "execution_count": 1,
      "outputs": []
    },
    {
      "cell_type": "markdown",
      "source": [
        "read csv file "
      ],
      "metadata": {
        "id": "5bxerYh_PLkk"
      }
    },
    {
      "cell_type": "code",
      "source": [
        "df = pd.read_csv(\"/content/drive/MyDrive/Colab_Notebooks/Youtube_Influencer_Analysis_Updated.csv\",encoding='cp1252')"
      ],
      "metadata": {
        "id": "fa9ryZs4PPbv"
      },
      "execution_count": 2,
      "outputs": []
    },
    {
      "cell_type": "markdown",
      "source": [
        "Missing value of each column"
      ],
      "metadata": {
        "id": "JUQkm16DPs4K"
      }
    },
    {
      "cell_type": "code",
      "source": [
        "df.isna().sum()"
      ],
      "metadata": {
        "colab": {
          "base_uri": "https://localhost:8080/"
        },
        "id": "TH2VeI9gPv0W",
        "outputId": "7fcc4b87-26c2-44f0-bae4-5046e743737a"
      },
      "execution_count": 3,
      "outputs": [
        {
          "output_type": "execute_result",
          "data": {
            "text/plain": [
              "Video Link                                 0\n",
              "Video Views                                0\n",
              "Video Title                                0\n",
              "Channel URL                                0\n",
              "Creator Name                              11\n",
              "Creator Gender                           314\n",
              "Total Channel Subcribers                   0\n",
              "Total Chanel Views                         0\n",
              "Duration of Video                          0\n",
              "Duration in Seconds                        0\n",
              "Date of Video Upload                       0\n",
              "No of Likes                                1\n",
              "Language of the Video                     21\n",
              "Subtitle                                   1\n",
              "Video Description                          0\n",
              "Hashtags                                   0\n",
              "No of Comments                             0\n",
              "Date of the Last Comment                  24\n",
              "Maximum Quality of the Video               0\n",
              "No of Videos the Channel                   0\n",
              "No of Playlist                             9\n",
              "Premiered or Not                           0\n",
              "Community Engagement (Posts per week)      0\n",
              "Intern Who Collected the Data              0\n",
              "dtype: int64"
            ]
          },
          "metadata": {},
          "execution_count": 3
        }
      ]
    },
    {
      "cell_type": "markdown",
      "source": [
        "Replace each NULL value to the appropriate numerical value or drop that row"
      ],
      "metadata": {
        "id": "p3qv68oEQBvs"
      }
    },
    {
      "cell_type": "code",
      "source": [
        "df['No of Likes'].fillna(df['No of Likes'].mean(),inplace=True)"
      ],
      "metadata": {
        "id": "PIhQJjiMQLU1"
      },
      "execution_count": 4,
      "outputs": []
    },
    {
      "cell_type": "code",
      "source": [
        "df.dropna(inplace=True)"
      ],
      "metadata": {
        "id": "BcOfTrwDQVbz"
      },
      "execution_count": 5,
      "outputs": []
    },
    {
      "cell_type": "markdown",
      "source": [
        "Here we can see that none of the column containg NULL values"
      ],
      "metadata": {
        "id": "Mba6FUCQQgxL"
      }
    },
    {
      "cell_type": "code",
      "source": [
        "df.isna().sum()"
      ],
      "metadata": {
        "colab": {
          "base_uri": "https://localhost:8080/"
        },
        "id": "A5rx5sHKQngo",
        "outputId": "587ce9f7-7b64-4172-ba59-9b3968026c7c"
      },
      "execution_count": 6,
      "outputs": [
        {
          "output_type": "execute_result",
          "data": {
            "text/plain": [
              "Video Link                               0\n",
              "Video Views                              0\n",
              "Video Title                              0\n",
              "Channel URL                              0\n",
              "Creator Name                             0\n",
              "Creator Gender                           0\n",
              "Total Channel Subcribers                 0\n",
              "Total Chanel Views                       0\n",
              "Duration of Video                        0\n",
              "Duration in Seconds                      0\n",
              "Date of Video Upload                     0\n",
              "No of Likes                              0\n",
              "Language of the Video                    0\n",
              "Subtitle                                 0\n",
              "Video Description                        0\n",
              "Hashtags                                 0\n",
              "No of Comments                           0\n",
              "Date of the Last Comment                 0\n",
              "Maximum Quality of the Video             0\n",
              "No of Videos the Channel                 0\n",
              "No of Playlist                           0\n",
              "Premiered or Not                         0\n",
              "Community Engagement (Posts per week)    0\n",
              "Intern Who Collected the Data            0\n",
              "dtype: int64"
            ]
          },
          "metadata": {},
          "execution_count": 6
        }
      ]
    },
    {
      "cell_type": "markdown",
      "source": [
        "Drop the columns which are irrelevant features"
      ],
      "metadata": {
        "id": "yhEROo4BQx0E"
      }
    },
    {
      "cell_type": "code",
      "source": [
        "df.drop(['Duration in Seconds','Hashtags','Date of the Last Comment','Maximum Quality of the Video'],axis=1,inplace=True)"
      ],
      "metadata": {
        "id": "dzWQ68StQz-d"
      },
      "execution_count": 7,
      "outputs": []
    },
    {
      "cell_type": "markdown",
      "source": [
        "Convert some data from string to integer"
      ],
      "metadata": {
        "id": "crv8uTAcRCRg"
      }
    },
    {
      "cell_type": "code",
      "source": [
        "# Here we covert Famale to 0 and Male to 1\n",
        "df['Creator Gender'].replace(['Female','Male'],[0,1],inplace=True)"
      ],
      "metadata": {
        "id": "IB04OdObRL0D"
      },
      "execution_count": 8,
      "outputs": []
    },
    {
      "cell_type": "code",
      "source": [
        "# Here we convert No and Yes to corresponding 0 and 1 in Subtitle column\n",
        "df['Subtitle'].replace(['No','Yes'],[0,1],inplace=True)"
      ],
      "metadata": {
        "id": "XLUgnrOiSoxz"
      },
      "execution_count": 9,
      "outputs": []
    },
    {
      "cell_type": "code",
      "source": [
        "# Here we convert No and Yes to corresponding 0 and 1 in Video Description column\n",
        "df['Video Description'].replace(['No','Yes'],[0,1],inplace=True)"
      ],
      "metadata": {
        "id": "vq9EavFXSi1c"
      },
      "execution_count": 10,
      "outputs": []
    },
    {
      "cell_type": "code",
      "source": [
        "# Here we convert No and Yes to corresponding 0 and 1 in Premired or Not column\n",
        "df['Premiered or Not'].replace(['No','Yes'],[0,1],inplace=True)"
      ],
      "metadata": {
        "id": "Ppkha4MTS1mc"
      },
      "execution_count": 11,
      "outputs": []
    }
  ]
}