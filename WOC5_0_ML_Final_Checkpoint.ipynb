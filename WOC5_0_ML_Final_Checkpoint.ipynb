{
 "cells": [
  {
   "cell_type": "code",
   "execution_count": 2,
   "id": "df8fbc1a",
   "metadata": {},
   "outputs": [],
   "source": [
    "import numpy as np\n",
    "import pandas as pd\n",
    "import matplotlib.pyplot as plt\n",
    "import seaborn as sns\n",
    "from sklearn import tree\n",
    "from sklearn.tree import DecisionTreeClassifier\n",
    "from sklearn.tree import export_text\n",
    "from sklearn.model_selection import train_test_split\n",
    "from sklearn.preprocessing import StandardScaler\n",
    "from sklearn.metrics import confusion_matrix"
   ]
  },
  {
   "cell_type": "code",
   "execution_count": 3,
   "id": "8d5bf62b",
   "metadata": {},
   "outputs": [],
   "source": [
    "df = pd.read_csv(\"weather.csv\")"
   ]
  },
  {
   "cell_type": "code",
   "execution_count": 4,
   "id": "44ca25aa",
   "metadata": {},
   "outputs": [],
   "source": [
    "df.weather.replace(['drizzle','rain','sun','snow','fog'],[0,1,2,3,4],inplace=True)"
   ]
  },
  {
   "cell_type": "code",
   "execution_count": 5,
   "id": "f78b563d",
   "metadata": {},
   "outputs": [],
   "source": [
    "Input = df.drop(['weather'],axis=1)\n",
    "Output = df.weather"
   ]
  },
  {
   "cell_type": "code",
   "execution_count": 6,
   "id": "809eee6a",
   "metadata": {},
   "outputs": [
    {
     "data": {
      "text/plain": [
       "DecisionTreeClassifier(min_samples_leaf=5)"
      ]
     },
     "execution_count": 6,
     "metadata": {},
     "output_type": "execute_result"
    }
   ],
   "source": [
    "model = tree.DecisionTreeClassifier(min_samples_leaf=5)\n",
    "model.fit(Input,Output)"
   ]
  },
  {
   "cell_type": "code",
   "execution_count": 7,
   "id": "e8865ad5",
   "metadata": {},
   "outputs": [],
   "source": [
    "def predictWeather(x):\n",
    "  predictedWeather = model.predict(x)\n",
    "  if predictedWeather==0:\n",
    "    return \"Drizzle\"\n",
    "  if predictedWeather==1:\n",
    "    return \"Rain\"\n",
    "  if predictedWeather==2:\n",
    "    return \"Sun\"\n",
    "  if predictedWeather==3:\n",
    "    return \"Snow\"\n",
    "  if predictedWeather==4:\n",
    "    return \"Fog\"\n"
   ]
  },
  {
   "cell_type": "markdown",
   "id": "ae7d86c4",
   "metadata": {},
   "source": [
    "# Deployment"
   ]
  },
  {
   "cell_type": "code",
   "execution_count": 8,
   "id": "3d6e56f8",
   "metadata": {},
   "outputs": [],
   "source": [
    "from tkinter import *\n",
    "from tkinter import ttk\n",
    "window = Tk()\n",
    "window.title(\"WOC 5\")\n",
    "\n",
    "\n",
    "\n",
    "l1 = Label(window,text=\"Weather Prediction App\",font=(\"Comic Sans MS\",30,\"bold underline\"),bg='Light Blue')\n",
    "l1.place(x=450,y=20)\n",
    "\n",
    "\n",
    "l = Label(window,text=\"Enter below details to predict weather\",font = (\"calibri\",15,'normal'),bg='Light Blue')\n",
    "l.place(x=500,y=100)\n",
    "\n",
    "\n",
    "v2 = StringVar()\n",
    "v3 = StringVar()\n",
    "v4 = StringVar()\n",
    "v5 = StringVar()\n",
    "\n",
    "l2 = Label(window,text=\"Precipitation\",font = (\"calibri\",15,'normal'),bg='Light Blue')\n",
    "l2.place(x=578,y=150)\n",
    "e2 =Entry(window,font=('Arial',10),bd=5,textvariable=v2)\n",
    "e2.place(x=560,y=180)\n",
    "\n",
    "l3 = Label(window,text=\"Maximum Temperature\",font = (\"Calibri\",15,'normal'),bg='Light Blue')\n",
    "l3.place(x=535,y=230)\n",
    "e3 =Entry(window,font=('Arial',10),bd=5,textvariable=v3)\n",
    "e3.place(x=560,y=260)\n",
    "\n",
    "l4 = Label(window,text=\"Minimum Temperature\",font = (\"Calibri\",15,'normal'),bg='Light Blue')\n",
    "l4.place(x=535,y=310)\n",
    "e4 =Entry(window,font=('Arial',10),bd=5,textvariable=v4)\n",
    "e4.place(x=560,y=340)\n",
    "\n",
    "l5 = Label(window,text=\"Wind Speed\",font = (\"Calibri\",15,'normal'),bg='Light Blue')\n",
    "l5.place(x=580,y=390)\n",
    "e5 =Entry(window,font=('Arial',10),bd=5,textvariable=v5)\n",
    "e5.place(x=560,y=420)\n",
    "\n",
    "def clicked():\n",
    "    x1=float(v2.get())\n",
    "    x2=float(v3.get())\n",
    "    x3=float(v4.get())\n",
    "    x4=float(v5.get())\n",
    "    currIn = np.array([[x1,x2,x3,x4]])\n",
    "    currO = predictWeather(currIn)\n",
    "    l6.config(text=\"Today's weather is \" + currO)\n",
    "\n",
    "b1 = Button(window,text='Check weather',command=clicked,activebackground='white')\n",
    "b1.place(x=600,y=490)\n",
    "\n",
    "l6 = Label(window,font = (\"Arial\",15,'normal'),bg='Light Blue')\n",
    "l6.place(x=550,y=550)\n",
    "window.configure(bg='Light Blue')\n",
    "window.mainloop()"
   ]
  },
  {
   "cell_type": "code",
   "execution_count": null,
   "id": "bccfe71f",
   "metadata": {},
   "outputs": [],
   "source": []
  }
 ],
 "metadata": {
  "kernelspec": {
   "display_name": "Python 3",
   "language": "python",
   "name": "python3"
  },
  "language_info": {
   "codemirror_mode": {
    "name": "ipython",
    "version": 3
   },
   "file_extension": ".py",
   "mimetype": "text/x-python",
   "name": "python",
   "nbconvert_exporter": "python",
   "pygments_lexer": "ipython3",
   "version": "3.8.8"
  }
 },
 "nbformat": 4,
 "nbformat_minor": 5
}
