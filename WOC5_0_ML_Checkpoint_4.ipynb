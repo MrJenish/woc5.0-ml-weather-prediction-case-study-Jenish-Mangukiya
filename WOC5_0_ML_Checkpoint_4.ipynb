{
  "nbformat": 4,
  "nbformat_minor": 0,
  "metadata": {
    "colab": {
      "provenance": [],
      "mount_file_id": "10TH4uNfTSJ_h_OZS27bh8C5AkRgfa3Ry",
      "authorship_tag": "ABX9TyPBDvafXmf/IEO14IoBLpaj",
      "include_colab_link": true
    },
    "kernelspec": {
      "name": "python3",
      "display_name": "Python 3"
    },
    "language_info": {
      "name": "python"
    }
  },
  "cells": [
    {
      "cell_type": "markdown",
      "metadata": {
        "id": "view-in-github",
        "colab_type": "text"
      },
      "source": [
        "<a href=\"https://colab.research.google.com/github/MrJenish/woc5.0-ml-weather-prediction-case-study-Jenish-Mangukiya/blob/main/WOC5_0_ML_Checkpoint_4.ipynb\" target=\"_parent\"><img src=\"https://colab.research.google.com/assets/colab-badge.svg\" alt=\"Open In Colab\"/></a>"
      ]
    },
    {
      "cell_type": "code",
      "execution_count": 1,
      "metadata": {
        "id": "rK_jvZHwxfeP"
      },
      "outputs": [],
      "source": [
        "import numpy as np\n",
        "import pandas as pd\n",
        "import matplotlib.pyplot as plt\n",
        "import seaborn as sns\n",
        "from sklearn import tree\n",
        "from sklearn.tree import DecisionTreeClassifier\n",
        "from sklearn.tree import export_text\n",
        "from sklearn.model_selection import train_test_split\n",
        "from sklearn.preprocessing import StandardScaler"
      ]
    },
    {
      "cell_type": "code",
      "source": [
        "df = pd.read_csv(\"/content/drive/MyDrive/Colab Notebooks/weather.csv\")"
      ],
      "metadata": {
        "id": "pyCJUDuXyDHO"
      },
      "execution_count": 2,
      "outputs": []
    },
    {
      "cell_type": "code",
      "source": [
        "df.shape"
      ],
      "metadata": {
        "colab": {
          "base_uri": "https://localhost:8080/"
        },
        "id": "r1a_liDdyTWj",
        "outputId": "99526d96-f550-4f5c-e4ca-efb05ae544f8"
      },
      "execution_count": 3,
      "outputs": [
        {
          "output_type": "execute_result",
          "data": {
            "text/plain": [
              "(1461, 5)"
            ]
          },
          "metadata": {},
          "execution_count": 3
        }
      ]
    },
    {
      "cell_type": "code",
      "source": [
        "df.weather.value_counts()"
      ],
      "metadata": {
        "colab": {
          "base_uri": "https://localhost:8080/"
        },
        "id": "Hx2XrAAByVJ4",
        "outputId": "9ab73a7a-6d1a-4d98-d89f-dcd8e21ff442"
      },
      "execution_count": 4,
      "outputs": [
        {
          "output_type": "execute_result",
          "data": {
            "text/plain": [
              "rain       641\n",
              "sun        640\n",
              "fog        101\n",
              "drizzle     53\n",
              "snow        26\n",
              "Name: weather, dtype: int64"
            ]
          },
          "metadata": {},
          "execution_count": 4
        }
      ]
    },
    {
      "cell_type": "code",
      "source": [
        "df.weather.replace(['drizzle','rain','sun','snow','fog'],[0,1,2,3,4],inplace=True)"
      ],
      "metadata": {
        "id": "DWXxlcWCyeXX"
      },
      "execution_count": 5,
      "outputs": []
    },
    {
      "cell_type": "code",
      "source": [
        "df.weather.value_counts()"
      ],
      "metadata": {
        "colab": {
          "base_uri": "https://localhost:8080/"
        },
        "id": "B9sB708HynSy",
        "outputId": "3c8f0f49-8d4e-4a50-a215-031a64aebdbc"
      },
      "execution_count": 6,
      "outputs": [
        {
          "output_type": "execute_result",
          "data": {
            "text/plain": [
              "1    641\n",
              "2    640\n",
              "4    101\n",
              "0     53\n",
              "3     26\n",
              "Name: weather, dtype: int64"
            ]
          },
          "metadata": {},
          "execution_count": 6
        }
      ]
    },
    {
      "cell_type": "markdown",
      "source": [
        "### **Model : 1** "
      ],
      "metadata": {
        "id": "lL10vV_nyuZB"
      }
    },
    {
      "cell_type": "code",
      "source": [
        "input1 = df.drop(['weather'],axis=1)\n",
        "output1 = df.weather\n",
        "x_train1, x_test1, y_train1, y_test1 = train_test_split(input1,output1,test_size=0.2,random_state=42)"
      ],
      "metadata": {
        "id": "zjpfNak7y0EF"
      },
      "execution_count": 7,
      "outputs": []
    },
    {
      "cell_type": "code",
      "source": [
        "print('x_train1 size : ',str(x_train1.shape))\n",
        "print('x_test1 size : ',str(x_test1.shape))\n",
        "print('y_train1 size : ',str(y_train1.shape))\n",
        "print('y_test1 size : ',str(y_test1.shape))"
      ],
      "metadata": {
        "colab": {
          "base_uri": "https://localhost:8080/"
        },
        "id": "0q0OIQBizFZT",
        "outputId": "96756dc3-b16f-4654-f3d2-59cd60b4fdd3"
      },
      "execution_count": 8,
      "outputs": [
        {
          "output_type": "stream",
          "name": "stdout",
          "text": [
            "x_train1 size :  (1168, 4)\n",
            "x_test1 size :  (293, 4)\n",
            "y_train1 size :  (1168,)\n",
            "y_test1 size :  (293,)\n"
          ]
        }
      ]
    },
    {
      "cell_type": "code",
      "source": [
        "model1 = tree.DecisionTreeClassifier()\n",
        "model1.fit(x_train1,y_train1)\n",
        "print(\"Accuracy of 1st model : {:.2f}%\".format(model1.score(x_test1,y_test1)*100))"
      ],
      "metadata": {
        "colab": {
          "base_uri": "https://localhost:8080/"
        },
        "id": "Kf38axQczZHw",
        "outputId": "1336b6be-b2b4-4915-8732-5d3b838bfe30"
      },
      "execution_count": 9,
      "outputs": [
        {
          "output_type": "stream",
          "name": "stdout",
          "text": [
            "Accuracy of 1st model : 73.04%\n"
          ]
        }
      ]
    },
    {
      "cell_type": "markdown",
      "source": [
        "### **Model : 2**"
      ],
      "metadata": {
        "id": "OpjNvXOVz7x_"
      }
    },
    {
      "cell_type": "code",
      "source": [
        "x_train2, x_test2, y_train2, y_test2 = train_test_split(input1,output1,test_size=0.2,random_state=42)\n",
        "print('x_train2 size : ',str(x_train2.shape))\n",
        "print('x_test2 size : ',str(x_test2.shape))\n",
        "print('y_train2 size : ',str(y_train2.shape))\n",
        "print('y_test2 size : ',str(y_test2.shape))"
      ],
      "metadata": {
        "colab": {
          "base_uri": "https://localhost:8080/"
        },
        "id": "XLZmPCApz-Pd",
        "outputId": "b7d032cd-f654-4a15-9057-91efa5ff5ffe"
      },
      "execution_count": 10,
      "outputs": [
        {
          "output_type": "stream",
          "name": "stdout",
          "text": [
            "x_train2 size :  (1168, 4)\n",
            "x_test2 size :  (293, 4)\n",
            "y_train2 size :  (1168,)\n",
            "y_test2 size :  (293,)\n"
          ]
        }
      ]
    },
    {
      "cell_type": "code",
      "source": [
        "model2 = tree.DecisionTreeClassifier(min_samples_leaf=1)\n",
        "model2.fit(x_train2,y_train2)\n",
        "print(\"Accuracy of 2nd model : {:.2f}%\".format(model2.score(x_test2,y_test2)*100))"
      ],
      "metadata": {
        "colab": {
          "base_uri": "https://localhost:8080/"
        },
        "id": "kKXlEvBY0j8g",
        "outputId": "0a79c914-f1e0-411b-b580-8e23ae231fb0"
      },
      "execution_count": 11,
      "outputs": [
        {
          "output_type": "stream",
          "name": "stdout",
          "text": [
            "Accuracy of 2nd model : 75.09%\n"
          ]
        }
      ]
    },
    {
      "cell_type": "markdown",
      "source": [
        "### **Model : 3**"
      ],
      "metadata": {
        "id": "vrwV9TZP0zus"
      }
    },
    {
      "cell_type": "code",
      "source": [
        "x_train3, x_test3, y_train3, y_test3 = train_test_split(input1,output1,test_size=0.2,random_state=42)\n",
        "print('x_train3 size : ',str(x_train3.shape))\n",
        "print('x_test3 size : ',str(x_test3.shape))\n",
        "print('y_train3 size : ',str(y_train3.shape))\n",
        "print('y_test3 size : ',str(y_test3.shape))"
      ],
      "metadata": {
        "colab": {
          "base_uri": "https://localhost:8080/"
        },
        "outputId": "e3ea414c-b6e0-4e54-90c0-d94f3f90a07c",
        "id": "8nLvKx8w0zus"
      },
      "execution_count": 12,
      "outputs": [
        {
          "output_type": "stream",
          "name": "stdout",
          "text": [
            "x_train3 size :  (1168, 4)\n",
            "x_test3 size :  (293, 4)\n",
            "y_train3 size :  (1168,)\n",
            "y_test3 size :  (293,)\n"
          ]
        }
      ]
    },
    {
      "cell_type": "code",
      "source": [
        "model3 = tree.DecisionTreeClassifier(min_samples_leaf=5)\n",
        "model3.fit(x_train3,y_train3)\n",
        "print(\"Accuracy of 3rd model : {:.2f}%\".format(model3.score(x_test3,y_test3)*100))"
      ],
      "metadata": {
        "colab": {
          "base_uri": "https://localhost:8080/"
        },
        "outputId": "ad5b8449-c8b3-4057-efa8-8b9d74285295",
        "id": "91Xr3srt0zut"
      },
      "execution_count": 13,
      "outputs": [
        {
          "output_type": "stream",
          "name": "stdout",
          "text": [
            "Accuracy of 3rd model : 78.84%\n"
          ]
        }
      ]
    },
    {
      "cell_type": "markdown",
      "source": [
        "### **Model : 4**"
      ],
      "metadata": {
        "id": "Ue-b2-BP1QWJ"
      }
    },
    {
      "cell_type": "code",
      "source": [
        "x_train4, x_test4, y_train4, y_test4 = train_test_split(input1,output1,test_size=0.2,random_state=42)\n",
        "print('x_train4 size : ',str(x_train4.shape))\n",
        "print('x_test4 size : ',str(x_test4.shape))\n",
        "print('y_train4 size : ',str(y_train4.shape))\n",
        "print('y_test4 size : ',str(y_test4.shape))"
      ],
      "metadata": {
        "colab": {
          "base_uri": "https://localhost:8080/"
        },
        "outputId": "065612c1-62f3-4fe4-8094-d9f8026e4af4",
        "id": "b4ipFntb1QWK"
      },
      "execution_count": 14,
      "outputs": [
        {
          "output_type": "stream",
          "name": "stdout",
          "text": [
            "x_train4 size :  (1168, 4)\n",
            "x_test4 size :  (293, 4)\n",
            "y_train4 size :  (1168,)\n",
            "y_test4 size :  (293,)\n"
          ]
        }
      ]
    },
    {
      "cell_type": "code",
      "source": [
        "model4 = tree.DecisionTreeClassifier(max_depth=3)\n",
        "model4.fit(x_train4,y_train4)\n",
        "print(\"Accuracy of 4th model : {:.2f}%\".format(model4.score(x_test4,y_test4)*100))"
      ],
      "metadata": {
        "colab": {
          "base_uri": "https://localhost:8080/"
        },
        "outputId": "3e620481-216d-41c4-e0fb-e4f553e4aca9",
        "id": "Zxdj6FR51QWK"
      },
      "execution_count": 15,
      "outputs": [
        {
          "output_type": "stream",
          "name": "stdout",
          "text": [
            "Accuracy of 4th model : 83.28%\n"
          ]
        }
      ]
    },
    {
      "cell_type": "markdown",
      "source": [
        "### **Model : 5**"
      ],
      "metadata": {
        "id": "Md-Bs8641g96"
      }
    },
    {
      "cell_type": "code",
      "source": [
        "x_train5, x_test5, y_train5, y_test5 = train_test_split(input1,output1,test_size=0.2,random_state=42)\n",
        "print('x_train5 size : ',str(x_train5.shape))\n",
        "print('x_test5 size : ',str(x_test5.shape))\n",
        "print('y_train5 size : ',str(y_train5.shape))\n",
        "print('y_test5 size : ',str(y_test5.shape))"
      ],
      "metadata": {
        "colab": {
          "base_uri": "https://localhost:8080/"
        },
        "outputId": "0054705e-1bb4-4031-b6c6-43207bb8372e",
        "id": "GdccjBsi1g96"
      },
      "execution_count": 16,
      "outputs": [
        {
          "output_type": "stream",
          "name": "stdout",
          "text": [
            "x_train5 size :  (1168, 4)\n",
            "x_test5 size :  (293, 4)\n",
            "y_train5 size :  (1168,)\n",
            "y_test5 size :  (293,)\n"
          ]
        }
      ]
    },
    {
      "cell_type": "code",
      "source": [
        "model5 = tree.DecisionTreeClassifier(max_depth=3,min_samples_leaf=1)\n",
        "model5.fit(x_train5,y_train5)\n",
        "print(\"Accuracy of 5th model : {:.2f}%\".format(model5.score(x_test5,y_test5)*100))"
      ],
      "metadata": {
        "colab": {
          "base_uri": "https://localhost:8080/"
        },
        "outputId": "a2c3cb83-eb70-4d14-d548-bc8cd1c9c30c",
        "id": "yuDVVzxY1g96"
      },
      "execution_count": 17,
      "outputs": [
        {
          "output_type": "stream",
          "name": "stdout",
          "text": [
            "Accuracy of 5th model : 83.28%\n"
          ]
        }
      ]
    },
    {
      "cell_type": "markdown",
      "source": [
        "### **Model : 6**"
      ],
      "metadata": {
        "id": "_fm7E4y12Bko"
      }
    },
    {
      "cell_type": "code",
      "source": [
        "x_train6, x_test6, y_train6, y_test6 = train_test_split(input1,output1,test_size=0.2,random_state=42)\n",
        "sc = StandardScaler()\n",
        "x_train6 = sc.fit_transform(x_train6)\n",
        "x_test6 = sc.transform(x_test6)\n",
        "print('x_train6 size : ',str(x_train6.shape))\n",
        "print('x_test6 size : ',str(x_test6.shape))\n",
        "print('y_train6 size : ',str(y_train6.shape))\n",
        "print('y_test6 size : ',str(y_test6.shape))"
      ],
      "metadata": {
        "colab": {
          "base_uri": "https://localhost:8080/"
        },
        "outputId": "9441f2dd-a766-4687-fbb5-f8de7554f75b",
        "id": "9mBLwjMh2Bko"
      },
      "execution_count": 18,
      "outputs": [
        {
          "output_type": "stream",
          "name": "stdout",
          "text": [
            "x_train6 size :  (1168, 4)\n",
            "x_test6 size :  (293, 4)\n",
            "y_train6 size :  (1168,)\n",
            "y_test6 size :  (293,)\n"
          ]
        }
      ]
    },
    {
      "cell_type": "code",
      "source": [
        "model6 = tree.DecisionTreeClassifier(min_samples_leaf=5)\n",
        "model6.fit(x_train6,y_train6)\n",
        "print(\"Accuracy of 6th model : {:.2f}%\".format(model6.score(x_test6,y_test6)*100))"
      ],
      "metadata": {
        "colab": {
          "base_uri": "https://localhost:8080/"
        },
        "outputId": "224dc18a-c386-4b8c-fdf1-d152493186ec",
        "id": "b4yiLS1a2Bko"
      },
      "execution_count": 19,
      "outputs": [
        {
          "output_type": "stream",
          "name": "stdout",
          "text": [
            "Accuracy of 6th model : 78.84%\n"
          ]
        }
      ]
    },
    {
      "cell_type": "markdown",
      "source": [
        "### **Model : 7**"
      ],
      "metadata": {
        "id": "-HOtTINU4QPw"
      }
    },
    {
      "cell_type": "code",
      "source": [
        "x_train7, x_test7, y_train7, y_test7 = train_test_split(input1,output1,test_size=0.2,random_state=42)\n",
        "sc = StandardScaler()\n",
        "x_train7 = sc.fit_transform(x_train7)\n",
        "x_test7 = sc.transform(x_test7)\n",
        "print('x_train7 size : ',str(x_train7.shape))\n",
        "print('x_test7 size : ',str(x_test7.shape))\n",
        "print('y_train7 size : ',str(y_train7.shape))\n",
        "print('y_test7 size : ',str(y_test7.shape))"
      ],
      "metadata": {
        "colab": {
          "base_uri": "https://localhost:8080/"
        },
        "outputId": "37dbe143-52c2-423c-ee21-6d17c84b729c",
        "id": "6kbL07PY4QPw"
      },
      "execution_count": 20,
      "outputs": [
        {
          "output_type": "stream",
          "name": "stdout",
          "text": [
            "x_train7 size :  (1168, 4)\n",
            "x_test7 size :  (293, 4)\n",
            "y_train7 size :  (1168,)\n",
            "y_test7 size :  (293,)\n"
          ]
        }
      ]
    },
    {
      "cell_type": "code",
      "source": [
        "model7 = tree.DecisionTreeClassifier(max_depth = 3,min_samples_leaf=5)\n",
        "model7.fit(x_train7,y_train7)\n",
        "print(\"Accuracy of 7th model : {:.2f}%\".format(model7.score(x_test7,y_test7)*100))"
      ],
      "metadata": {
        "colab": {
          "base_uri": "https://localhost:8080/"
        },
        "outputId": "e7c8cf84-a314-4047-ab9c-35ac3dec1270",
        "id": "UJdiDfm74QPw"
      },
      "execution_count": 21,
      "outputs": [
        {
          "output_type": "stream",
          "name": "stdout",
          "text": [
            "Accuracy of 7th model : 83.28%\n"
          ]
        }
      ]
    },
    {
      "cell_type": "markdown",
      "source": [
        "### **Model : 8**"
      ],
      "metadata": {
        "id": "nd3alxnN27lw"
      }
    },
    {
      "cell_type": "code",
      "source": [
        "Q1=df.quantile(0.25)\n",
        "Q3=df.quantile(0.75)\n",
        "IQR=Q3-Q1\n",
        "df=df[~((df<(Q1-1.5*IQR))|(df>(Q3+1.5*IQR))).any(axis=1)]"
      ],
      "metadata": {
        "id": "0-FSZjzf3sSI"
      },
      "execution_count": 22,
      "outputs": []
    },
    {
      "cell_type": "code",
      "source": [
        "x_train8, x_test8, y_train8, y_test8 = train_test_split(input1,output1,test_size=0.2,random_state=42)\n",
        "x_train8 = sc.fit_transform(x_train8)\n",
        "x_test8 = sc.transform(x_test8)\n",
        "print('x_train8 size : ',str(x_train8.shape))\n",
        "print('x_test8 size : ',str(x_test8.shape))\n",
        "print('y_train8 size : ',str(y_train8.shape))\n",
        "print('y_test8 size : ',str(y_test8.shape))"
      ],
      "metadata": {
        "colab": {
          "base_uri": "https://localhost:8080/"
        },
        "outputId": "21d619a8-6f1c-41ed-8606-2fadd20a6745",
        "id": "XmyQbgkA27lx"
      },
      "execution_count": 23,
      "outputs": [
        {
          "output_type": "stream",
          "name": "stdout",
          "text": [
            "x_train8 size :  (1168, 4)\n",
            "x_test8 size :  (293, 4)\n",
            "y_train8 size :  (1168,)\n",
            "y_test8 size :  (293,)\n"
          ]
        }
      ]
    },
    {
      "cell_type": "code",
      "source": [
        "model8 = tree.DecisionTreeClassifier(max_depth=3)\n",
        "model8.fit(x_train8,y_train8)\n",
        "print(\"Accuracy of 8th model : {:.2f}%\".format(model8.score(x_test8,y_test8)*100))"
      ],
      "metadata": {
        "colab": {
          "base_uri": "https://localhost:8080/"
        },
        "outputId": "a7887532-45a6-4f62-d5a9-3e1d913ca8e1",
        "id": "VQ0x-xMK27lx"
      },
      "execution_count": 24,
      "outputs": [
        {
          "output_type": "stream",
          "name": "stdout",
          "text": [
            "Accuracy of 8th model : 83.28%\n"
          ]
        }
      ]
    },
    {
      "cell_type": "code",
      "source": [
        "def predictWeather(x):\n",
        "  predictedWeather = model8.predict(x)\n",
        "  if predictedWeather==0:\n",
        "    return \"Drizzle\"\n",
        "  if predictedWeather==1:\n",
        "    return \"Rain\"\n",
        "  if predictedWeather==2:\n",
        "    return \"Sun\"\n",
        "  if predictedWeather==3:\n",
        "    return \"Snow\"\n",
        "  if predictedWeather==4:\n",
        "    return \"Fog\"\n",
        "\n",
        "userInput = [[1,7,2.5,2.3]]\n",
        "print(\"Today's weather is \" + predictWeather(userInput))"
      ],
      "metadata": {
        "colab": {
          "base_uri": "https://localhost:8080/"
        },
        "id": "td3WmASP7YEZ",
        "outputId": "c099dd69-25ae-499f-dde0-be6b38b0b70d"
      },
      "execution_count": 25,
      "outputs": [
        {
          "output_type": "stream",
          "name": "stdout",
          "text": [
            "Today's weather is Rain\n"
          ]
        }
      ]
    },
    {
      "cell_type": "markdown",
      "source": [
        "### **Summary**\n",
        "\n",
        "*   1st model accuracy : 73.04 %\n",
        "*   2nd model accuracy : 75.09 %\n",
        "*   3rd model accuracy : 78.84 %\n",
        "*   4th model accuracy : 83.28 %\n",
        "*   5th model accuracy : 83.28 %\n",
        "*   6th model accuracy : 78.84 %\n",
        "*   7th model accuracy : 83.28 %\n",
        "*   8th model accuracy : 83.28 %\n"
      ],
      "metadata": {
        "id": "SOIu9YQF7fBB"
      }
    },
    {
      "cell_type": "markdown",
      "source": [
        "### **Observation**\n",
        "\n",
        "Train and test the different model with same dataset we can observe that we need to remove outliers and also scale our data to improve time complexity. We also need to set some parameters like maximum depth of decision tree and minimum sample leaf node so that get good results."
      ],
      "metadata": {
        "id": "iioGIWPB8dQY"
      }
    }
  ]
}